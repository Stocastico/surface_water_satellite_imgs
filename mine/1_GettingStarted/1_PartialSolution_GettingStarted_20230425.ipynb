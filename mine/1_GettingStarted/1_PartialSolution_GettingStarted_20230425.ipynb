{
 "cells": [
  {
   "cell_type": "markdown",
   "metadata": {
    "id": "ryYYRuURob6Y"
   },
   "source": [
    "<table style=\"font-size: 1em; padding: 0; margin: 0;\">\n",
    "\n",
    "<tr style=\"vertical-align: top; padding: 0; margin: 0;background-color: #ffffff\">\n",
    "        <td style=\"vertical-align: top; padding: 0; margin: 0; padding-right: 15px;\">\n",
    "    <p style=\"background: #182AEB; color:#ffffff; text-align:justify; padding: 10px 25px;\">\n",
    "        <strong style=\"font-size: 1.0em;\"><span style=\"font-size: 1.2em;\"><span style=\"color: #ffffff;\">Deep Learning </span> for Satellite Image Classification</span> (Manning Publications)<br/>by <em>Daniel Buscombe</em></strong><br/><br/>\n",
    "        <strong>> Chapter 1: Deliverable Partial Solution </strong><br/>\n",
    "    </p>  "
   ]
  },
  {
   "cell_type": "markdown",
   "metadata": {
    "id": "KFrwlGMgob6j"
   },
   "source": [
    "The first thing to do is to import the required libraries. We will need ```tensorflow```, ```rasterio```, ```requests``` (or ```wget```, whatever you prefer using to download a file from the web using Python) and the ```io``` package from ```scikit-image```"
   ]
  },
  {
   "cell_type": "code",
   "execution_count": null,
   "metadata": {
    "id": "W_-w7MPzob6l"
   },
   "outputs": [],
   "source": [
    "import tensorflow as tf\n",
    "#add remaining imports"
   ]
  },
  {
   "cell_type": "markdown",
   "metadata": {
    "id": "lfQzP4Mqob6m"
   },
   "source": [
    "Then, we will download an image from the Sentinel2 dataset, similar to what we did in the Notebook that introduced this liveProject. As the image is quite big, this step can take a while to complete."
   ]
  },
  {
   "cell_type": "code",
   "execution_count": null,
   "metadata": {
    "id": "xjZvyHtGob6o"
   },
   "outputs": [],
   "source": [
    "URL = \"https://lp-prod-resources.s3.us-west-2.amazonaws.com/106/example_TCI_10m.jp2\"\n",
    "# Use wget or requests to download the image in the URL"
   ]
  },
  {
   "cell_type": "markdown",
   "metadata": {
    "id": "un7ZKwoQob6q"
   },
   "source": [
    "Once we get the file, we will create three ```TIFF``` images, using the same function ```write_image``` as in the previous notebook: "
   ]
  },
  {
   "cell_type": "code",
   "execution_count": null,
   "metadata": {
    "id": "n97iEFvbob6r"
   },
   "outputs": [],
   "source": [
    "def write_image(input, output, band):\n",
    "    with rasterio.open(input, driver='JP2OpenJPEG') as src_dataset:\n",
    "        \n",
    "        array = src_dataset.read(band)\n",
    "        # complete the function, using inspiration from the first notebook\n",
    "\n",
    "input_file = 'test_img.jp2'          \n",
    "file_ = 'r1.tif'\n",
    "\n",
    "# Use the function to write the tiff image using one of the three band of the input image\n",
    "# write_image( ... )"
   ]
  },
  {
   "cell_type": "markdown",
   "metadata": {
    "id": "PDr22X61ob7B"
   },
   "source": [
    "We will now use only the first image we created. We read it using ```imread``` from ```scikit-image``` and display its dimensions"
   ]
  },
  {
   "cell_type": "code",
   "execution_count": null,
   "metadata": {},
   "outputs": [],
   "source": [
    "# use the method io.imread\n",
    "# img = "
   ]
  },
  {
   "cell_type": "markdown",
   "metadata": {},
   "source": [
    "The image is indeed huge! It has 3 color channels and is 10980 pixels in both veritcal and horizontal dimenstion. We will use ```tf.image``` to rescale it to a smaller image"
   ]
  },
  {
   "cell_type": "code",
   "execution_count": null,
   "metadata": {},
   "outputs": [],
   "source": [
    "# Check in Tensorflow documentation how to properly call the resize function\n",
    "img_array = tf.image.resize( ... )"
   ]
  },
  {
   "cell_type": "markdown",
   "metadata": {},
   "source": [
    "... then we will also rotate the image 90 degrees and store the rotated version in a new variable"
   ]
  },
  {
   "cell_type": "code",
   "execution_count": null,
   "metadata": {},
   "outputs": [],
   "source": [
    "# Check again in Tensorflow documentation what method allows you to rotate an image\n",
    "img_r = tf.image..."
   ]
  },
  {
   "cell_type": "markdown",
   "metadata": {},
   "source": [
    "We are finally ready to display the result. Make sure to convert the array to numpy and to use uint8 as integer type"
   ]
  },
  {
   "cell_type": "code",
   "execution_count": null,
   "metadata": {},
   "outputs": [],
   "source": [
    "plt.imshow(img_array.numpy().astype('uint8'), cmap='gray')\n",
    "# do the same for the rotated image"
   ]
  },
  {
   "cell_type": "code",
   "execution_count": null,
   "metadata": {},
   "outputs": [],
   "source": []
  }
 ],
 "metadata": {
  "colab": {
   "collapsed_sections": [
    "cQC_ezGwob61"
   ],
   "name": "1_PartialSolution_GettingStarted.ipynb",
   "provenance": []
  },
  "kernelspec": {
   "display_name": "Python 3 (ipykernel)",
   "language": "python",
   "name": "python3"
  },
  "language_info": {
   "codemirror_mode": {
    "name": "ipython",
    "version": 3
   },
   "file_extension": ".py",
   "mimetype": "text/x-python",
   "name": "python",
   "nbconvert_exporter": "python",
   "pygments_lexer": "ipython3",
   "version": "3.9.6"
  }
 },
 "nbformat": 4,
 "nbformat_minor": 1
}
