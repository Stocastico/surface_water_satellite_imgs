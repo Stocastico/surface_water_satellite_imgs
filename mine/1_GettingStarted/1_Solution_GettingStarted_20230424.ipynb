{
 "cells": [
  {
   "cell_type": "markdown",
   "metadata": {
    "colab_type": "text",
    "id": "W89KmCZNW_vr"
   },
   "source": [
    "<table style=\"font-size: 1em; padding: 0; margin: 0;\">\n",
    "\n",
    "<tr style=\"vertical-align: top; padding: 0; margin: 0;background-color: #ffffff\">\n",
    "        <td style=\"vertical-align: top; padding: 0; margin: 0; padding-right: 15px;\">\n",
    "    <p style=\"background: #182AEB; color:#ffffff; text-align:justify; padding: 10px 25px;\">\n",
    "        <strong style=\"font-size: 1.0em;\"><span style=\"font-size: 1.2em;\"><span style=\"color: #ffffff;\">Deep Learning </span> for Satellite Image Classification</span> (Manning Publications)<br/>by <em>Daniel Buscombe</em></strong><br/><br/>\n",
    "        <strong>> Chapter 1: Deliverable Solution </strong><br/>\n",
    "    </p>  "
   ]
  },
  {
   "cell_type": "markdown",
   "metadata": {
    "colab_type": "text",
    "id": "doNBqBMRW_vu"
   },
   "source": [
    "At first, we import the required libraries:"
   ]
  },
  {
   "cell_type": "code",
   "execution_count": null,
   "metadata": {},
   "outputs": [],
   "source": [
    "%matplotlib inline\n",
    "import tensorflow as tf\n",
    "import requests\n",
    "import rasterio\n",
    "import matplotlib.pyplot as plt\n",
    "from skimage import io"
   ]
  },
  {
   "cell_type": "markdown",
   "metadata": {},
   "source": [
    "Then, we will download an image from the Sentinel2 dataset, similar to what we did in the Notebook that introduced this liveProject. As the image is quite big, this step can take a while to complete."
   ]
  },
  {
   "cell_type": "code",
   "execution_count": null,
   "metadata": {},
   "outputs": [],
   "source": [
    "URL = \"https://lp-prod-resources.s3.us-west-2.amazonaws.com/106/example_TCI_10m.jp2\"\n",
    "response = requests.get(URL)\n",
    "open(\"test_img.jp2\", \"wb\").write(response.content)"
   ]
  },
  {
   "cell_type": "markdown",
   "metadata": {},
   "source": [
    "And from it we will create three ```TIFF``` images, using the same function ```write_image``` as in the previous notebook: "
   ]
  },
  {
   "cell_type": "code",
   "execution_count": null,
   "metadata": {},
   "outputs": [],
   "source": [
    "def write_image(input, output, band):\n",
    "    with rasterio.open(input, driver='JP2OpenJPEG') as src_dataset:\n",
    "        \n",
    "        array = src_dataset.read(band)\n",
    "        # Get a copy of the source dataset's profile. Thus our\n",
    "        # destination dataset will have the same dimensions,\n",
    "        # number of bands, data type, and georeferencing as the\n",
    "        # source dataset.\n",
    "        kwds = src_dataset.profile\n",
    "\n",
    "        # Change the format driver for the destination dataset to\n",
    "        # 'GTiff', short for GeoTIFF.\n",
    "        kwds['driver'] = 'GTiff'\n",
    "\n",
    "        # Add GeoTIFF-specific keyword arguments.\n",
    "        kwds['tiled'] = True\n",
    "        kwds['blockxsize'] = 256\n",
    "        kwds['blockysize'] = 256\n",
    "        kwds['photometric'] = 'YCbCr'\n",
    "        kwds['compress'] = 'JPEG'\n",
    "\n",
    "        with rasterio.open(output, 'w', **kwds) as dst_dataset:\n",
    "            # Write data to the destination dataset.\n",
    "            dst_dataset.write(array.astype(rasterio.uint8), 1)\n",
    "\n",
    "input_file = 'test_img.jp2'          \n",
    "file_list = ['r1.tif', 'r2.tif', 'r3.tif']\n",
    "[write_image(input_file, f, band) for f,band in zip(file_list, [1,2,3])]"
   ]
  },
  {
   "cell_type": "markdown",
   "metadata": {},
   "source": [
    "We will now use only the first image we created. We read it using ```imread``` from ```scikit-image``` and display its dimensions"
   ]
  },
  {
   "cell_type": "code",
   "execution_count": null,
   "metadata": {
    "colab": {},
    "colab_type": "code",
    "id": "hEO4otSOW_vw"
   },
   "outputs": [],
   "source": [
    "img = io.imread('r1.tif')\n",
    "print(img.shape)"
   ]
  },
  {
   "cell_type": "markdown",
   "metadata": {
    "colab_type": "text",
    "id": "mFEna9dMW_v3"
   },
   "source": [
    "The image is indeed huge! It has 3 color channels and is 10980 pixels in both veritcal and horizontal dimenstion. We will use ```tf.image``` to rescale it to a smaller image"
   ]
  },
  {
   "cell_type": "code",
   "execution_count": null,
   "metadata": {
    "colab": {},
    "colab_type": "code",
    "id": "YzUZE0ToW_wR"
   },
   "outputs": [],
   "source": [
    "img_array = tf.image.resize(\n",
    "    img,\n",
    "    (640,640),\n",
    "    preserve_aspect_ratio=True,\n",
    "    antialias=False,\n",
    "    name=None)"
   ]
  },
  {
   "cell_type": "markdown",
   "metadata": {
    "colab_type": "text",
    "id": "3PRWw4D0W_wW"
   },
   "source": [
    "... then we will also rotate the image 90 degrees and store the rotated version in a new variable"
   ]
  },
  {
   "cell_type": "code",
   "execution_count": null,
   "metadata": {
    "colab": {},
    "colab_type": "code",
    "id": "rovZSYFIW_wX"
   },
   "outputs": [],
   "source": [
    "img_r = tf.image.rot90(img_array)"
   ]
  },
  {
   "cell_type": "markdown",
   "metadata": {
    "colab_type": "text",
    "id": "mjP8jfQPW_wc"
   },
   "source": [
    "We are finally ready to display the result"
   ]
  },
  {
   "cell_type": "code",
   "execution_count": null,
   "metadata": {
    "colab": {},
    "colab_type": "code",
    "id": "RGGrukdCW_wc"
   },
   "outputs": [],
   "source": [
    "plt.subplot(121)\n",
    "plt.imshow(img_array.numpy().astype('uint8'), cmap='gray')\n",
    "plt.subplot(122)\n",
    "plt.imshow(img_r.numpy().astype('uint8'), cmap='gray')"
   ]
  }
 ],
 "metadata": {
  "colab": {
   "name": "Part1_Solution.ipynb",
   "provenance": []
  },
  "kernelspec": {
   "display_name": "Python 3 (ipykernel)",
   "language": "python",
   "name": "python3"
  },
  "language_info": {
   "codemirror_mode": {
    "name": "ipython",
    "version": 3
   },
   "file_extension": ".py",
   "mimetype": "text/x-python",
   "name": "python",
   "nbconvert_exporter": "python",
   "pygments_lexer": "ipython3",
   "version": "3.9.6"
  }
 },
 "nbformat": 4,
 "nbformat_minor": 1
}
